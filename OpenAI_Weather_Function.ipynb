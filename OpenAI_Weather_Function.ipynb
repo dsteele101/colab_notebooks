{
  "nbformat": 4,
  "nbformat_minor": 0,
  "metadata": {
    "colab": {
      "provenance": [],
      "authorship_tag": "ABX9TyOzHY3GpCYbGGPquBiG0G0Q",
      "include_colab_link": true
    },
    "kernelspec": {
      "name": "python3",
      "display_name": "Python 3"
    },
    "language_info": {
      "name": "python"
    }
  },
  "cells": [
    {
      "cell_type": "markdown",
      "metadata": {
        "id": "view-in-github",
        "colab_type": "text"
      },
      "source": [
        "<a href=\"https://colab.research.google.com/github/dsteele101/colab_notebooks/blob/main/OpenAI_Weather_Function.ipynb\" target=\"_parent\"><img src=\"https://colab.research.google.com/assets/colab-badge.svg\" alt=\"Open In Colab\"/></a>"
      ]
    },
    {
      "cell_type": "markdown",
      "source": [
        "Test of OpenAI functions.\n",
        "\n",
        "Sign up for a free account here for the Weather API https://www.weatherapi.com/."
      ],
      "metadata": {
        "id": "vTIKJaxWDFdx"
      }
    },
    {
      "cell_type": "code",
      "source": [
        "!pip install openai\n",
        "!pip install requests"
      ],
      "metadata": {
        "id": "LQjkvds5C1xi"
      },
      "execution_count": null,
      "outputs": []
    },
    {
      "cell_type": "code",
      "execution_count": 5,
      "metadata": {
        "id": "8grZfdHeCNEP"
      },
      "outputs": [],
      "source": [
        "import openai\n",
        "import json\n",
        "import requests"
      ]
    },
    {
      "cell_type": "code",
      "source": [
        "WEATHER_API_KEY = \"\"\n",
        "openai.api_key = \"\""
      ],
      "metadata": {
        "id": "PE3DFfVpCSlY"
      },
      "execution_count": 6,
      "outputs": []
    },
    {
      "cell_type": "code",
      "source": [
        "def get_current_weather(location, unit=\"fahrenheit\"):\n",
        "    url = f\"http://api.weatherapi.com/v1/current.json?key={WEATHER_API_KEY}&q={location}&aqi=no\"\n",
        "    response = requests.get(url)\n",
        "\n",
        "    if response.status_code == 200:\n",
        "        data = response.json()\n",
        "        temp_fahrenheit = data[\"current\"][\"temp_f\"]\n",
        "        condition_text = data[\"current\"][\"condition\"][\"text\"]\n",
        "        unit = \"Fahrenheit\"\n",
        "\n",
        "        weather_info = {\n",
        "            \"location\": location,\n",
        "            \"temperature\": str(temp_fahrenheit),\n",
        "            \"unit\": unit,\n",
        "            \"forecast\": [condition_text],\n",
        "        }\n",
        "\n",
        "        json_data = json.dumps(weather_info)\n",
        "        return json_data\n",
        "    else:\n",
        "        print(\"Error:\", response.status_code)"
      ],
      "metadata": {
        "id": "dHFypuSmCYaA"
      },
      "execution_count": 7,
      "outputs": []
    },
    {
      "cell_type": "code",
      "source": [
        "def run_conversation():\n",
        "    messages = [{\"role\": \"user\", \"content\": \"What's the weather like in Austin?\"}]\n",
        "    functions = [\n",
        "        {\n",
        "            \"name\": \"get_current_weather\",\n",
        "            \"description\": \"Get the current weather in a given location\",\n",
        "            \"parameters\": {\n",
        "                \"type\": \"object\",\n",
        "                \"properties\": {\n",
        "                    \"location\": {\n",
        "                        \"type\": \"string\",\n",
        "                        \"description\": \"The city and state, e.g. San Francisco, CA\",\n",
        "                    },\n",
        "                    \"unit\": {\"type\": \"string\", \"enum\": [\"celsius\", \"fahrenheit\"]},\n",
        "                },\n",
        "                \"required\": [\"location\"],\n",
        "            },\n",
        "        }\n",
        "    ]\n",
        "    response = openai.ChatCompletion.create(\n",
        "        model=\"gpt-3.5-turbo-0613\",\n",
        "        messages=messages,\n",
        "        functions=functions,\n",
        "        function_call=\"auto\",\n",
        "    )\n",
        "    response_message = response[\"choices\"][0][\"message\"]\n",
        "\n",
        "    if response_message.get(\"function_call\"):\n",
        "        available_functions = {\n",
        "            \"get_current_weather\": get_current_weather,\n",
        "        }\n",
        "        function_name = response_message[\"function_call\"][\"name\"]\n",
        "        fuction_to_call = available_functions[function_name]\n",
        "        function_args = json.loads(response_message[\"function_call\"][\"arguments\"])\n",
        "        function_response = fuction_to_call(\n",
        "            location=function_args.get(\"location\"),\n",
        "            unit=function_args.get(\"unit\"),\n",
        "        )\n",
        "\n",
        "        messages.append(response_message)\n",
        "        messages.append(\n",
        "            {\n",
        "                \"role\": \"function\",\n",
        "                \"name\": function_name,\n",
        "                \"content\": function_response,\n",
        "            }\n",
        "        )\n",
        "        second_response = openai.ChatCompletion.create(\n",
        "            model=\"gpt-3.5-turbo-0613\",\n",
        "            messages=messages,\n",
        "        )\n",
        "        return second_response"
      ],
      "metadata": {
        "id": "KeababtrCcEH"
      },
      "execution_count": 8,
      "outputs": []
    },
    {
      "cell_type": "code",
      "source": [
        "print(run_conversation())"
      ],
      "metadata": {
        "colab": {
          "base_uri": "https://localhost:8080/"
        },
        "id": "zMhr5LPwCmsF",
        "outputId": "17816c77-d7ed-4ed9-ec20-ccce9fab6760"
      },
      "execution_count": 9,
      "outputs": [
        {
          "output_type": "stream",
          "name": "stdout",
          "text": [
            "{\n",
            "  \"id\": \"chatcmpl-7VpxTbdygZKqxObjIfYcXd0Peym0D\",\n",
            "  \"object\": \"chat.completion\",\n",
            "  \"created\": 1687822251,\n",
            "  \"model\": \"gpt-3.5-turbo-0613\",\n",
            "  \"choices\": [\n",
            "    {\n",
            "      \"index\": 0,\n",
            "      \"message\": {\n",
            "        \"role\": \"assistant\",\n",
            "        \"content\": \"The weather in Austin is currently sunny with a temperature of 100.9 degrees Fahrenheit.\"\n",
            "      },\n",
            "      \"finish_reason\": \"stop\"\n",
            "    }\n",
            "  ],\n",
            "  \"usage\": {\n",
            "    \"prompt_tokens\": 72,\n",
            "    \"completion_tokens\": 18,\n",
            "    \"total_tokens\": 90\n",
            "  }\n",
            "}\n"
          ]
        }
      ]
    }
  ]
}