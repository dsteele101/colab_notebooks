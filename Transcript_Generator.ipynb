{
  "nbformat": 4,
  "nbformat_minor": 0,
  "metadata": {
    "colab": {
      "provenance": [],
      "authorship_tag": "ABX9TyPhPZ6H8fPqh25Nm0okP20F",
      "include_colab_link": true
    },
    "kernelspec": {
      "name": "python3",
      "display_name": "Python 3"
    },
    "language_info": {
      "name": "python"
    }
  },
  "cells": [
    {
      "cell_type": "markdown",
      "metadata": {
        "id": "view-in-github",
        "colab_type": "text"
      },
      "source": [
        "<a href=\"https://colab.research.google.com/github/dsteele101/colab_notebooks/blob/main/Transcript_Generator.ipynb\" target=\"_parent\"><img src=\"https://colab.research.google.com/assets/colab-badge.svg\" alt=\"Open In Colab\"/></a>"
      ]
    },
    {
      "cell_type": "markdown",
      "source": [
        "# **Transcript Generator**\n",
        "\n",
        "The below notebook will generate transcripts for use cases.\n",
        "\n",
        "Replace the text in the variables CUSTOMER and USE_CASE to guide what transcripts are generated.\n",
        "\n",
        "Replace TOKEN with your OpenAI API key.\n",
        "\n",
        "Files are stored in Google Drive. Click on the folder icon in CoLab to view them."
      ],
      "metadata": {
        "id": "PJd0ADm7pcJR"
      }
    },
    {
      "cell_type": "code",
      "execution_count": null,
      "metadata": {
        "id": "8xYou3s7kpg0"
      },
      "outputs": [],
      "source": [
        "import json\n",
        "import re\n",
        "import requests\n",
        "from multiprocessing import Pool"
      ]
    },
    {
      "cell_type": "code",
      "source": [
        "CUSTOMER = \"Amelia.ai\"\n",
        "USE_CASE = \"IT Service Desk\"\n",
        "NUM_TRANSCRIPTS = 10\n",
        "PROMPT = f\"Generate chat transcripts labeled as user and agent. These transcripts should revolve around {CUSTOMER} {USE_CASE} topics, make sure there are at least four turns in each transcript. Each turn of a transcript should only be a single line. Each transcript should deal with a unique issue. The start of each transcript should contain a line which reads START OF TRANSCRIPT. The end of each transcript should contain a line which reads END OF TRANSCRIPT.\"\n",
        "MAX_TRANSCRIPTS_PER_API_CALL = 5\n",
        "TOKEN = \"\""
      ],
      "metadata": {
        "id": "okrCE5V_lSjv"
      },
      "execution_count": null,
      "outputs": []
    },
    {
      "cell_type": "code",
      "source": [
        "def extract_transcripts(text):\n",
        "    transcript_blocks = re.findall(r\"START OF TRANSCRIPT(.*?)END OF TRANSCRIPT\", text, re.DOTALL)\n",
        "    transcript_blocks = [block.strip() for block in transcript_blocks]\n",
        "    return transcript_blocks"
      ],
      "metadata": {
        "id": "psbjpKO3CaWE"
      },
      "execution_count": null,
      "outputs": []
    },
    {
      "cell_type": "code",
      "source": [
        "def generate_transcripts(counter):\n",
        "    transcripts_remaining = NUM_TRANSCRIPTS - counter\n",
        "    transcripts_to_generate = min(transcripts_remaining, MAX_TRANSCRIPTS_PER_API_CALL)\n",
        "    prompt = f\"{PROMPT} Generate {transcripts_to_generate} transcripts.\"\n",
        "    pre_json = f'{{\"model\": \"gpt-3.5-turbo-0613\", \"messages\": [{{\"role\": \"user\", \"content\": \"{prompt}\"}}], \"temperature\": 0.7}}'\n",
        "    payload = json.loads(pre_json)\n",
        "    headers = {'Authorization': 'Bearer ' + TOKEN}\n",
        "    r = requests.post('https://api.openai.com/v1/chat/completions', json=payload, headers=headers, verify=False)\n",
        "    res = r.json()\n",
        "    print(res)\n",
        "    generated_transcripts = [choice[\"message\"][\"content\"] for choice in res[\"choices\"]]\n",
        "\n",
        "    formatted_transcripts = []\n",
        "    for transcript in generated_transcripts:\n",
        "        transcript_blocks = extract_transcripts(transcript)\n",
        "\n",
        "        for i, block in enumerate(transcript_blocks, start=counter):\n",
        "            cleaned_block = re.sub(r\"(User|Agent):\\s*\", r\"\\1\\t\", block)\n",
        "            cleaned_block = cleaned_block.replace(\":\", \"\")\n",
        "            formatted_transcripts.append(cleaned_block)\n",
        "            print(f'Transcript {i} formatted successfully.')\n",
        "\n",
        "            if len(formatted_transcripts) == NUM_TRANSCRIPTS:\n",
        "                break  # Break the loop if the desired number of transcripts is reached\n",
        "\n",
        "        counter += 1  # Increment the counter\n",
        "\n",
        "        if counter == NUM_TRANSCRIPTS:\n",
        "            break  # Break the loop if the desired number of transcripts is reached\n",
        "\n",
        "    return formatted_transcripts"
      ],
      "metadata": {
        "id": "zTxd69kElmO7"
      },
      "execution_count": null,
      "outputs": []
    },
    {
      "cell_type": "code",
      "source": [
        "def main():\n",
        "    pool = Pool()  # Create a process pool\n",
        "\n",
        "    # Generate transcripts in parallel\n",
        "    transcripts_counter = 0\n",
        "    results = []\n",
        "    while transcripts_counter < NUM_TRANSCRIPTS:\n",
        "        results.append(pool.apply_async(generate_transcripts, args=(transcripts_counter,)))\n",
        "        transcripts_counter += MAX_TRANSCRIPTS_PER_API_CALL\n",
        "\n",
        "    pool.close()\n",
        "    pool.join()\n",
        "\n",
        "    # Retrieve the results from each process\n",
        "    transcripts = []\n",
        "    for result in results:\n",
        "        transcripts.extend(result.get())\n",
        "\n",
        "    # Save the transcripts to separate files\n",
        "    for i, transcript in enumerate(transcripts):\n",
        "        cleaned_customer = re.sub(r'\\W+', '', CUSTOMER).replace('\\n', '_')\n",
        "        filename = f'{cleaned_customer}_transcript_{i:03}.txt'\n",
        "        with open(filename, 'w') as file:\n",
        "            file.write(transcript)\n",
        "\n",
        "        print(f'File {filename} created successfully.')\n",
        "\n",
        "    print(f\"{NUM_TRANSCRIPTS} transcripts generated successfully.\")"
      ],
      "metadata": {
        "id": "HIBP9mxkl6H8"
      },
      "execution_count": null,
      "outputs": []
    },
    {
      "cell_type": "code",
      "source": [
        "if __name__ == \"__main__\":\n",
        "    main()"
      ],
      "metadata": {
        "colab": {
          "base_uri": "https://localhost:8080/"
        },
        "id": "zbULt8mtl9Zv",
        "outputId": "7469aa3d-c365-4646-fabc-0bc9ead91677"
      },
      "execution_count": null,
      "outputs": [
        {
          "output_type": "stream",
          "name": "stderr",
          "text": [
            "/usr/local/lib/python3.10/dist-packages/urllib3/connectionpool.py:1045: InsecureRequestWarning: Unverified HTTPS request is being made to host 'api.openai.com'. Adding certificate verification is strongly advised. See: https://urllib3.readthedocs.io/en/1.26.x/advanced-usage.html#ssl-warnings\n",
            "  warnings.warn(\n",
            "/usr/local/lib/python3.10/dist-packages/urllib3/connectionpool.py:1045: InsecureRequestWarning: Unverified HTTPS request is being made to host 'api.openai.com'. Adding certificate verification is strongly advised. See: https://urllib3.readthedocs.io/en/1.26.x/advanced-usage.html#ssl-warnings\n",
            "  warnings.warn(\n"
          ]
        },
        {
          "output_type": "stream",
          "name": "stdout",
          "text": [
            "{'id': 'chatcmpl-7TEq1YDs1dgAUxcBaXsnIrWoFXgW7', 'object': 'chat.completion', 'created': 1687202905, 'model': 'gpt-3.5-turbo-0613', 'choices': [{'index': 0, 'message': {'role': 'assistant', 'content': 'START OF TRANSCRIPT\\nUser: Hi, I am unable to access my email account.\\nAgent: I\\'m sorry to hear that. Can you please provide me with your email address?\\nUser: sure, it\\'s john@example.com.\\nAgent: Thank you. Let me check the server logs to see if there are any issues.\\nUser: Okay, please let me know what you find.\\nAgent: It seems that there was a temporary server outage. The issue has been resolved, and you should be able to access your email now.\\nEND OF TRANSCRIPT\\n\\nSTART OF TRANSCRIPT\\nUser: Hello, I need assistance with resetting my password.\\nAgent: Of course, I can help you with that. Can you please provide me with your username?\\nUser: My username is jdoe123.\\nAgent: Thank you. I will send a password reset link to your registered email address. Please check your inbox.\\nUser: Alright, I\\'ll do that. Thank you.\\nAgent: You\\'re welcome! Let me know if you need any further assistance.\\nEND OF TRANSCRIPT\\n\\nSTART OF TRANSCRIPT\\nUser: Hi, I\\'m having trouble connecting to the company\\'s VPN.\\nAgent: I apologize for the inconvenience. Have you installed the VPN client on your device?\\nUser: Yes, I have it installed.\\nAgent: Are you receiving any error messages when trying to connect?\\nUser: Yes, the error message says \"Failed to establish a connection.\"\\nAgent: Please try restarting your device and then attempt to connect again. Let me know if the issue persists.\\nUser: Okay, I\\'ll give that a try. Thank you.\\nEND OF TRANSCRIPT\\n\\nSTART OF TRANSCRIPT\\nUser: Hi, I accidentally deleted an important file from my computer. Can it be recovered?\\nAgent: I\\'m sorry to hear that. Do you have a backup of your files?\\nUser: No, I don\\'t have a recent backup.\\nAgent: In that case, I recommend using data recovery software to attempt to retrieve the deleted file. I can provide you with a list of recommended tools.\\nUser: That would be great. Please send me the list.\\nAgent: Sure, I will send it to your email address. Please check your inbox.\\nUser: Thank you for your help.\\nEND OF TRANSCRIPT\\n\\nSTART OF TRANSCRIPT\\nUser: Hello, I\\'m having trouble printing a document. The printer keeps showing an error.\\nAgent: I apologize for the inconvenience. Have you tried turning off the printer and turning it back on?\\nUser: Yes, I have tried that, but the error persists.\\nAgent: Please check if there is any paper jammed in the printer. Clearing any paper jams might resolve the issue.\\nUser: I just found a paper jam and cleared it. The printer is working fine now. Thank you!\\nAgent: You\\'re welcome! Don\\'t hesitate to reach out if you need further assistance.\\nEND OF TRANSCRIPT'}, 'finish_reason': 'stop'}], 'usage': {'prompt_tokens': 99, 'completion_tokens': 589, 'total_tokens': 688}}\n",
            "Transcript 0 formatted successfully.\n",
            "Transcript 1 formatted successfully.\n",
            "Transcript 2 formatted successfully.\n",
            "Transcript 3 formatted successfully.\n",
            "Transcript 4 formatted successfully.\n",
            "{'id': 'chatcmpl-7TEq1iULbULrcMindIB36ouhEaC1C', 'object': 'chat.completion', 'created': 1687202905, 'model': 'gpt-3.5-turbo-0613', 'choices': [{'index': 0, 'message': {'role': 'assistant', 'content': 'START OF TRANSCRIPT\\nUser: Hi, I can\\'t access my email account. Can you help me?\\nAgent: Sure, I can assist you with that. Could you please provide me with your email address?\\nUser: It\\'s john.doe@example.com.\\nAgent: Thank you. Let me check the issue for you. Please wait a moment.\\nAgent: I found that your account is locked. I will unlock it for you. You should be able to access your email now.\\nUser: That\\'s great! Thank you for your help.\\nAgent: You\\'re welcome! If you have any further questions, feel free to ask.\\nEND OF TRANSCRIPT\\n\\nSTART OF TRANSCRIPT\\nUser: Hello, I need help setting up a VPN connection.\\nAgent: Of course, I can guide you through the process. Which operating system are you using?\\nUser: I\\'m using Windows 10.\\nAgent: Perfect. First, click on the Start button and type \"VPN\" in the search bar. Then select \"VPN settings\" from the results.\\nUser: Okay, I\\'ve opened the VPN settings.\\nAgent: Great. Now click on \"Add a VPN connection\" and fill in the required information, such as the server address and your login credentials.\\nUser: Done! What should I do next?\\nAgent: Click on \"Save\" to save the VPN connection. You can now connect to the VPN by clicking on the network icon in the system tray and selecting your newly created VPN connection.\\nUser: Thank you for your guidance. I appreciate it.\\nAgent: You\\'re welcome! If you have any other questions, feel free to ask.\\nEND OF TRANSCRIPT\\n\\nSTART OF TRANSCRIPT\\nUser: Hi, my computer is running very slow. Can you help me speed it up?\\nAgent: Of course, I can assist you with that. Have you performed any recent updates or installed any new software?\\nUser: I installed a new antivirus program last week.\\nAgent: Sometimes antivirus programs can slow down the system. Let\\'s try disabling it temporarily and see if there\\'s any improvement.\\nUser: Okay, I\\'ve disabled the antivirus. It seems a bit faster now.\\nAgent: That\\'s a good sign. It\\'s possible that the antivirus was causing the slowdown. I recommend contacting the antivirus support team to address the issue further.\\nUser: Alright, I\\'ll do that. Thank you for your help.\\nAgent: You\\'re welcome! If you have any other questions, feel free to ask.\\nEND OF TRANSCRIPT\\n\\nSTART OF TRANSCRIPT\\nUser: Hi, I\\'m having trouble connecting to the Wi-Fi network in my office.\\nAgent: I can help you troubleshoot the issue. Have you tried restarting your computer and router?\\nUser: Yes, I\\'ve restarted both, but the problem persists.\\nAgent: Okay, let\\'s try forgetting the network and reconnecting to it. Right-click on the Wi-Fi icon in the system tray and select \"Open Network & Internet settings.\"\\nUser: Done. What should I do next?\\nAgent: Scroll down and click on \"Manage known networks.\" Find your office Wi-Fi network, click on it, and select \"Forget.\"\\nUser: I\\'ve forgotten the network. Now what?\\nAgent: Go back to the Wi-Fi icon, select your office network, and enter the network password when prompted. Hopefully, this will resolve the issue.\\nUser: It worked! I\\'m now connected. Thank you for your assistance.\\nAgent: You\\'re welcome! If you need further help, don\\'t hesitate to ask.\\nEND OF TRANSCRIPT\\n\\nSTART OF TRANSCRIPT\\nUser: Hello, I accidentally deleted an important file. Can it be recovered?\\nAgent: I can help you with file recovery. Do you have a backup of the file?\\nUser: Unfortunately, I don\\'t have a backup.\\nAgent: Don\\'t worry, there might still be a chance to recover it. Have you checked the recycle bin?\\nUser: Yes, I already checked, but the file is not there.\\nAgent: In that case, you can try using a file recovery software. I can recommend some reliable options if you\\'d like.\\nUser: That would be great. Please recommend some software.\\nAgent: Sure, you can try Recuva, EaseUS Data Recovery Wizard, or Disk Drill. These are user-friendly tools that can help you recover deleted files.\\nUser: Thank you for your suggestions. I\\'ll give them a try.\\nAgent: You\\'re welcome! Let me know if you need any further assistance.\\nEND OF TRANSCRIPT'}, 'finish_reason': 'stop'}], 'usage': {'prompt_tokens': 99, 'completion_tokens': 914, 'total_tokens': 1013}}\n",
            "Transcript 5 formatted successfully.\n",
            "Transcript 6 formatted successfully.\n",
            "Transcript 7 formatted successfully.\n",
            "Transcript 8 formatted successfully.\n",
            "Transcript 9 formatted successfully.\n",
            "File Ameliaai_transcript_000.txt created successfully.\n",
            "File Ameliaai_transcript_001.txt created successfully.\n",
            "File Ameliaai_transcript_002.txt created successfully.\n",
            "File Ameliaai_transcript_003.txt created successfully.\n",
            "File Ameliaai_transcript_004.txt created successfully.\n",
            "File Ameliaai_transcript_005.txt created successfully.\n",
            "File Ameliaai_transcript_006.txt created successfully.\n",
            "File Ameliaai_transcript_007.txt created successfully.\n",
            "File Ameliaai_transcript_008.txt created successfully.\n",
            "File Ameliaai_transcript_009.txt created successfully.\n",
            "10 transcripts generated successfully.\n"
          ]
        }
      ]
    },
    {
      "cell_type": "markdown",
      "source": [],
      "metadata": {
        "id": "VJeEJF1QlNdM"
      }
    }
  ]
}