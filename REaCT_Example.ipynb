{
  "nbformat": 4,
  "nbformat_minor": 0,
  "metadata": {
    "colab": {
      "provenance": [],
      "authorship_tag": "ABX9TyNrQAR8g0tf6KkkjxaAC04t",
      "include_colab_link": true
    },
    "kernelspec": {
      "name": "python3",
      "display_name": "Python 3"
    },
    "language_info": {
      "name": "python"
    }
  },
  "cells": [
    {
      "cell_type": "markdown",
      "metadata": {
        "id": "view-in-github",
        "colab_type": "text"
      },
      "source": [
        "<a href=\"https://colab.research.google.com/github/dsteele101/colab_notebooks/blob/main/REaCT_Example.ipynb\" target=\"_parent\"><img src=\"https://colab.research.google.com/assets/colab-badge.svg\" alt=\"Open In Colab\"/></a>"
      ]
    },
    {
      "cell_type": "code",
      "source": [
        "!pip install langchain\n",
        "!pip install wikipedia\n",
        "!pip install openai"
      ],
      "metadata": {
        "id": "vXTFfYJgdTMZ"
      },
      "execution_count": null,
      "outputs": []
    },
    {
      "cell_type": "code",
      "execution_count": null,
      "metadata": {
        "id": "G1q3fbVtcPKF"
      },
      "outputs": [],
      "source": [
        "from langchain import OpenAI, Wikipedia\n",
        "from langchain.agents import initialize_agent, Tool\n",
        "from langchain.agents import AgentType\n",
        "from langchain.agents.react.base import DocstoreExplorer"
      ]
    },
    {
      "cell_type": "code",
      "source": [
        "API_KEY = \"\""
      ],
      "metadata": {
        "id": "_TWRtIDxcip4"
      },
      "execution_count": null,
      "outputs": []
    },
    {
      "cell_type": "code",
      "source": [
        "docstore=DocstoreExplorer(Wikipedia())\n",
        "\n",
        "tools = [\n",
        "    Tool(\n",
        "        name=\"Search\",\n",
        "        func=docstore.search,\n",
        "        description=\"useful for when you need to ask with search\"\n",
        "    ),\n",
        "    Tool(\n",
        "        name=\"Lookup\",\n",
        "        func=docstore.lookup,\n",
        "        description=\"useful for when you need to ask with lookup\"\n",
        "    )\n",
        "]\n",
        "\n",
        "llm = OpenAI(temperature=0, model_name=\"text-davinci-003\", openai_api_key=API_KEY)\n",
        "\n",
        "react = initialize_agent(tools, llm, agent=AgentType.REACT_DOCSTORE, verbose=True, handle_parsing_errors=\"Check your output and make sure it conforms!\")"
      ],
      "metadata": {
        "id": "OcieP2whcTTQ"
      },
      "execution_count": null,
      "outputs": []
    },
    {
      "cell_type": "code",
      "source": [
        "react.agent.llm_chain.prompt.template = \"\"\"\n",
        "\n",
        "Question: I need to search for information on the formation of the company Amelia.ai.\n",
        "Action: Search[formation of Amelia.ai]\n",
        "Observation: I couldn't find specific information about the formation of Amelia.ai.\n",
        "Thought: I need to try a different search query.\n",
        "Action: Search[Amelia.ai company history]\n",
        "Observation: Amelia.ai is an artificial intelligence company specializing in conversational AI and intelligent automation. It was founded in 2014.\n",
        "Thought: The company Amelia.ai was formed in 2014.\n",
        "Action: Finish[2014]\n",
        "\n",
        "Question: Musician and satirist Allie Goertz wrote a song about the \"The Simpsons\" character Milhouse, who Matt Groening named after who?\n",
        "Thought: The question simplifies to \"The Simpsons\" character Milhouse is named after who. I only need to search Milhouse and find who it is named after.\n",
        "Action: Search[Milhouse]\n",
        "Observation: Milhouse Mussolini Van Houten is a recurring character in the Fox animated television series The Simpsons voiced by Pamela Hayden and created by Matt Groening.\n",
        "Thought: The paragraph does not tell who Milhouse is named after, maybe I can look up \"named after\".\n",
        "Action: Lookup[named after]\n",
        "Observation: (Result 1 / 1) Milhouse was named after U.S. president Richard Nixon, whose middle name was Milhous.\n",
        "Thought: Milhouse was named after U.S. president Richard Nixon, so the answer is Richard Nixon.\n",
        "Action: Finish[Richard Nixon]\n",
        "\n",
        "Question: Which documentary is about Finnish rock groups, Adam Clayton Powell or The Saimaa Gesture?\n",
        "Thought: I need to search Adam Clayton Powell and The Saimaa Gesture, and find which documentary is about Finnish rock groups.\n",
        "Action: Search[Adam Clayton Powell]\n",
        "Observation: Could not find [Adam Clayton Powell]. Similar: [’Adam Clayton Powell III’, ’Seventh Avenue (Manhattan)’, ’Adam Clayton Powell Jr. State Office Building’, ’Isabel Washington Powell’, ’Adam Powell’, ’Adam Clayton Powell (film)’, ’Giancarlo Esposito’].\n",
        "Thought: To find the documentary, I can search Adam Clayton Powell (film).\n",
        "Action: Search[Adam Clayton Powell (film)]\n",
        "Observation: Adam Clayton Powell is a 1989 American documentary film directed by Richard Kilberg. The film is about the rise and fall of influential African-American politician Adam Clayton Powell Jr.[3][4] It was later aired as part of the PBS series The American Experience.\n",
        "Thought: Adam Clayton Powell (film) is a documentary about an African-American politician, not Finnish rock groups. So the documentary about Finnish rock groups must instead be The Saimaa Gesture.\n",
        "Action: Finish[The Saimaa Gesture]\n",
        "\n",
        "Question: What profession does Nicholas Ray and Elia Kazan have in common?\n",
        "Thought: I need to search Nicholas Ray and Elia Kazan, find their professions, then find the profession they have in common.\n",
        "Action: Search[Nicholas Ray]\n",
        "Observation: Nicholas Ray (born Raymond Nicholas Kienzle Jr., August 7, 1911 - June 16, 1979) was an American film director, screenwriter, and actor best known for the 1955 film Rebel Without a Cause.\n",
        "Thought: Professions of Nicholas Ray are director, screenwriter, and actor. I need to search Elia Kazan next and find his professions.\n",
        "Action: Search[Elia Kazan]\n",
        "Observation: Elia Kazan was an American film and theatre director, producer, screenwriter and actor.\n",
        "Thought: Professions of Elia Kazan are director, producer, screenwriter, and actor. So profession Nicholas Ray and Elia Kazan have in common is director, screenwriter, and actor.\n",
        "Action: Finish[director, screenwriter, actor]\n",
        "\n",
        "Question: Which magazine was started first Arthur’s Magazine or First for Women?\n",
        "Thought: I need to search Arthur’s Magazine and First for Women, and find which was started first.\n",
        "Action: Search[Arthur’s Magazine]\n",
        "Observation: Arthur’s Magazine (1844-1846) was an American literary periodical published in Philadelphia in the 19th century.\n",
        "Thought: Arthur’s Magazine was started in 1844. I need to search First for Women next.\n",
        "Action: Search[First for Women]\n",
        "Observation: First for Women is a woman’s magazine published by Bauer Media Group in the USA.[1] The magazine was started in 1989.\n",
        "Thought: First for Women was started in 1989. 1844 (Arthur’s Magazine) < 1989 (First for Women), so Arthur’s Magazine was started first.\n",
        "Action: Finish[Arthur’s Magazine]\n",
        "\n",
        "Question: Were Pavel Urysohn and Leonid Levin known for the same type of work?\n",
        "Thought: I need to search Pavel Urysohn and Leonid Levin, find their types of work, then find if they are the same.\n",
        "Action: Search[Pavel Urysohn]\n",
        "Observation: Pavel Samuilovich Urysohn (February 3, 1898 - August 17, 1924) was a Soviet mathematician who is best known for his contributions in dimension theory.\n",
        "Thought: Pavel Urysohn is a mathematician. I need to search Leonid Levin next and find its type of work.\n",
        "Action: Search[Leonid Levin]\n",
        "Observation: Leonid Anatolievich Levin is a Soviet-American mathematician and computer scientist.\n",
        "Thought: Leonid Levin is a mathematician and computer scientist. So Pavel Urysohn and Leonid Levin have the same type of work.\n",
        "Action: Finish[yes]\n",
        "\n",
        "Question: {input}\n",
        "{agent_scratchpad}\n",
        "\"\"\"\n",
        "print(react.agent.llm_chain.prompt.template)"
      ],
      "metadata": {
        "id": "6njQY3t_e4PT"
      },
      "execution_count": null,
      "outputs": []
    },
    {
      "cell_type": "code",
      "source": [
        "question = \"When was the film Star Wars released?\"\n",
        "react.run(question)"
      ],
      "metadata": {
        "colab": {
          "base_uri": "https://localhost:8080/",
          "height": 323
        },
        "id": "R7DCbtU0jEoS",
        "outputId": "fb93fab2-14af-4728-e8ec-bec49ae8d55f"
      },
      "execution_count": null,
      "outputs": [
        {
          "output_type": "stream",
          "name": "stdout",
          "text": [
            "\n",
            "\n",
            "\u001b[1m> Entering new  chain...\u001b[0m\n",
            "\u001b[32;1m\u001b[1;3mThought: I need to search Star Wars and find when it was released.\n",
            "Action: Search[Star Wars]\u001b[0m\n",
            "Observation: \u001b[36;1m\u001b[1;3mCould not find [Star Wars]. Similar: ['Star Wars', 'List of Star Wars films', 'Star Wars (film)', 'Star Wars: The Force Awakens', 'Star Wars video games', 'Lego Star Wars', 'Star Wars: The Bad Batch', 'List of Star Wars video games', 'List of Star Wars television series', 'Star Wars comics']\u001b[0m\n",
            "Thought:\u001b[32;1m\u001b[1;3mTo find the release date, I can search Star Wars (film).\n",
            "Action: Search[Star Wars (film)]\u001b[0m\n",
            "Observation: \u001b[36;1m\u001b[1;3mThe Star Wars franchise involves multiple live-action and animated films. The film series started with a trilogy set in medias res that was later expanded to a trilogy of trilogies, known as the \"Skywalker Saga\".\n",
            "The 1977 self-titled film, later subtitled Episode IV – A New Hope, was followed by the sequels The Empire Strikes Back (1980) and Return of the Jedi (1983), respectively subtitled onscreen as Episode V and Episode VI; these films form the original trilogy. Sixteen years later, the prequel trilogy was released, consisting of Star Wars: Episode I – The Phantom Menace (1999), Episode II – Attack of the Clones (2002), and Episode III – Revenge of the Sith (2005). After creator George Lucas sold Lucasfilm to Disney in 2012, a sequel trilogy consisting of Episodes VII through IX was released, consisting of Star Wars: The Force Awakens (2015), The Last Jedi (2017), and The Rise of Skywalker (2019).\n",
            "The first three spin-off films produced were the made-for-television Star Wars Holiday Special (1978), The Ewok Adventure (1984) and Ewoks: The Battle for Endor (1985). Following Disney's 2012 acquisition of the franchise, these earlier films were dropped from the official canon, but the theatrical animated film Star Wars: The Clone Wars (2008) and its television series continuation retain their canonical status. Two standalone films were produced and released between the sequel trilogy films: Rogue One (2016) and Solo: A Star Wars Story (2018), both set between the original and prequel trilogies. Untitled movies from Taika Waititi, James Mangold, Dave Filoni, and Sharmeen Obaid-Chinoy have been officially announced as being written, while other unspecified films are reportedly in early stages of development.The combined box office revenue of the films amounts to over ten billion dollars, and it is currently the second-highest-grossing film franchise. The major live-action releases (including all the films within the Skywalker Saga) were nominated for Academy Awards. The original film was nominated for most of the major categories, including Best Picture, Best Director, Best Original Screenplay, and Best Supporting Actor for Alec Guinness (who played Obi-Wan Kenobi), while all theatrical live-action films have been nominated for particular categories. Several official Star Wars television series have also been released, all now on Disney+.\u001b[0m\n",
            "Thought:\u001b[32;1m\u001b[1;3mThe original Star Wars film was released in 1977.\n",
            "Action: Finish[1977]\u001b[0m\n",
            "\n",
            "\u001b[1m> Finished chain.\u001b[0m\n"
          ]
        },
        {
          "output_type": "execute_result",
          "data": {
            "text/plain": [
              "'1977'"
            ],
            "application/vnd.google.colaboratory.intrinsic+json": {
              "type": "string"
            }
          },
          "metadata": {},
          "execution_count": 40
        }
      ]
    }
  ]
}